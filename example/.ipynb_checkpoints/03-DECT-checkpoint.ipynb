{
 "cells": [
  {
   "cell_type": "code",
   "execution_count": 1,
   "id": "e280d524-c2ae-4546-ba08-569b23d3e6b3",
   "metadata": {},
   "outputs": [],
   "source": [
    "# This notebook is about crip and Dual-Energy CT."
   ]
  },
  {
   "cell_type": "code",
   "execution_count": 1,
   "id": "7f5ba35c-cf14-4f66-a6b7-7d7702eaf2cf",
   "metadata": {},
   "outputs": [],
   "source": [
    "import numpy as np\n",
    "import matplotlib.pyplot as plt\n",
    "from crip.physics import Atten, Spectrum\n",
    "from crip.spec import decompMaterial, deDecompProjCoeff"
   ]
  },
  {
   "cell_type": "code",
   "execution_count": 3,
   "id": "3225da4b-d248-4e2e-9449-c91111b28daf",
   "metadata": {},
   "outputs": [],
   "source": [
    "spec80 = Spectrum.fromFile('03-Spectrum-80.txt', 'keV')\n",
    "spec140 = Spectrum.fromFile('03-Spectrum-140.txt', 'keV')\n",
    "PMMA = Atten.fromBuiltIn('PMMA')\n",
    "Al = Atten.fromBuiltIn('Al')"
   ]
  },
  {
   "cell_type": "code",
   "execution_count": 9,
   "id": "20481870-1b22-47ff-a8b3-3f6f18edc443",
   "metadata": {},
   "outputs": [
    {
     "name": "stderr",
     "output_type": "stream",
     "text": [
      "c:\\Users\\13637\\anaconda3\\envs\\main\\lib\\site-packages\\crip\\spec.py:34: RuntimeWarning: divide by zero encountered in log\n",
      "  return -np.log(attenedSpec.omega / flat)\n"
     ]
    },
    {
     "ename": "CripException",
     "evalue": "Inputs should be 1D sequence.",
     "output_type": "error",
     "traceback": [
      "\u001b[1;31m---------------------------------------------------------------------------\u001b[0m",
      "\u001b[1;31mCripException\u001b[0m                             Traceback (most recent call last)",
      "Cell \u001b[1;32mIn[9], line 4\u001b[0m\n\u001b[0;32m      2\u001b[0m L1 \u001b[38;5;241m=\u001b[39m np\u001b[38;5;241m.\u001b[39marange(\u001b[38;5;241m0\u001b[39m, \u001b[38;5;241m20\u001b[39m \u001b[38;5;241m+\u001b[39m \u001b[38;5;241m1\u001b[39m, \u001b[38;5;241m2\u001b[39m) \u001b[38;5;241m*\u001b[39m \u001b[38;5;241m10\u001b[39m \u001b[38;5;66;03m# lengths to compute on\u001b[39;00m\n\u001b[0;32m      3\u001b[0m L2 \u001b[38;5;241m=\u001b[39m np\u001b[38;5;241m.\u001b[39marange(\u001b[38;5;241m0\u001b[39m, \u001b[38;5;241m5\u001b[39m \u001b[38;5;241m+\u001b[39m \u001b[38;5;241m1\u001b[39m, \u001b[38;5;241m1\u001b[39m) \u001b[38;5;241m*\u001b[39m \u001b[38;5;241m10\u001b[39m\n\u001b[1;32m----> 4\u001b[0m c1, c2 \u001b[38;5;241m=\u001b[39m \u001b[43mdeDecompProjCoeff\u001b[49m\u001b[43m(\u001b[49m\u001b[43mspec80\u001b[49m\u001b[43m,\u001b[49m\u001b[43m \u001b[49m\u001b[43mspec140\u001b[49m\u001b[43m,\u001b[49m\u001b[43m \u001b[49m\u001b[43mPMMA\u001b[49m\u001b[43m,\u001b[49m\u001b[43m \u001b[49m\u001b[43mL1\u001b[49m\u001b[43m,\u001b[49m\u001b[43m \u001b[49m\u001b[43mAl\u001b[49m\u001b[43m,\u001b[49m\u001b[43m \u001b[49m\u001b[43mL2\u001b[49m\u001b[43m)\u001b[49m\n",
      "File \u001b[1;32mc:\\Users\\13637\\anaconda3\\envs\\main\\lib\\site-packages\\crip\\spec.py:45\u001b[0m, in \u001b[0;36mdeDecompProjCoeff\u001b[1;34m(lowSpec, highSpec, base1, len1, base2, len2)\u001b[0m\n\u001b[0;32m     42\u001b[0m         postlogLow\u001b[38;5;241m.\u001b[39mappend(computePostlog(lowSpec, [base1, base2], [i, j]))\n\u001b[0;32m     43\u001b[0m         postlogHigh\u001b[38;5;241m.\u001b[39mappend(computePostlog(highSpec, [base1, base2], [i, j]))\n\u001b[1;32m---> 45\u001b[0m beta, gamma \u001b[38;5;241m=\u001b[39m \u001b[43mfitPolyV2D2\u001b[49m\u001b[43m(\u001b[49m\u001b[43mnp\u001b[49m\u001b[38;5;241;43m.\u001b[39;49m\u001b[43marray\u001b[49m\u001b[43m(\u001b[49m\u001b[43mpostlogLow\u001b[49m\u001b[43m)\u001b[49m\u001b[43m,\u001b[49m\u001b[43m \u001b[49m\u001b[43mnp\u001b[49m\u001b[38;5;241;43m.\u001b[39;49m\u001b[43marray\u001b[49m\u001b[43m(\u001b[49m\u001b[43mpostlogHigh\u001b[49m\u001b[43m)\u001b[49m\u001b[43m,\u001b[49m\u001b[43m \u001b[49m\u001b[43mnp\u001b[49m\u001b[38;5;241;43m.\u001b[39;49m\u001b[43marray\u001b[49m\u001b[43m(\u001b[49m\u001b[43mlenCombo\u001b[49m\u001b[43m)\u001b[49m\u001b[43m)\u001b[49m\u001b[38;5;241m.\u001b[39mT\n\u001b[0;32m     47\u001b[0m \u001b[38;5;28;01mreturn\u001b[39;00m beta, gamma\n",
      "File \u001b[1;32mc:\\Users\\13637\\anaconda3\\envs\\main\\lib\\site-packages\\crip\\shared.py:235\u001b[0m, in \u001b[0;36mfitPolyV2D2\u001b[1;34m(x1, x2, y, bias)\u001b[0m\n\u001b[0;32m    229\u001b[0m \u001b[38;5;28;01mdef\u001b[39;00m \u001b[38;5;21mfitPolyV2D2\u001b[39m(x1: NDArray, x2: NDArray, y: NDArray, bias: \u001b[38;5;28mbool\u001b[39m \u001b[38;5;241m=\u001b[39m \u001b[38;5;28;01mTrue\u001b[39;00m) \u001b[38;5;241m-\u001b[39m\u001b[38;5;241m>\u001b[39m NDArray:\n\u001b[0;32m    230\u001b[0m \u001b[38;5;250m    \u001b[39m\u001b[38;5;124;03m''' Fit a degree-2 polynomial using pseudo-inverse to a pair of variables `x1, x2`.\u001b[39;00m\n\u001b[0;32m    231\u001b[0m \u001b[38;5;124;03m        Output 6 coefficients `c[0~5]`, minimizing the error of `y` and\u001b[39;00m\n\u001b[0;32m    232\u001b[0m \u001b[38;5;124;03m        `c[0] * x1**2 + c[1] * x2**2 + c[2] * x1 * x2 + c[3] * x1 + c[4] * x2 + c[5]`.\u001b[39;00m\n\u001b[0;32m    233\u001b[0m \u001b[38;5;124;03m        If `bias` is False, `c[5]` will be 0.\u001b[39;00m\n\u001b[0;32m    234\u001b[0m \u001b[38;5;124;03m    '''\u001b[39;00m\n\u001b[1;32m--> 235\u001b[0m     \u001b[43mcripAssert\u001b[49m\u001b[43m(\u001b[49m\u001b[43mis1D\u001b[49m\u001b[43m(\u001b[49m\u001b[43mx1\u001b[49m\u001b[43m)\u001b[49m\u001b[43m \u001b[49m\u001b[38;5;129;43;01mand\u001b[39;49;00m\u001b[43m \u001b[49m\u001b[43mis1D\u001b[49m\u001b[43m(\u001b[49m\u001b[43mx2\u001b[49m\u001b[43m)\u001b[49m\u001b[43m \u001b[49m\u001b[38;5;129;43;01mand\u001b[39;49;00m\u001b[43m \u001b[49m\u001b[43mis1D\u001b[49m\u001b[43m(\u001b[49m\u001b[43my\u001b[49m\u001b[43m)\u001b[49m\u001b[43m,\u001b[49m\u001b[43m \u001b[49m\u001b[38;5;124;43m'\u001b[39;49m\u001b[38;5;124;43mInputs should be 1D sequence.\u001b[39;49m\u001b[38;5;124;43m'\u001b[39;49m\u001b[43m)\u001b[49m\n\u001b[0;32m    236\u001b[0m     cripAssert(isOfSameShape(x1, x2) \u001b[38;5;129;01mand\u001b[39;00m isOfSameShape(x1, y), \u001b[38;5;124m'\u001b[39m\u001b[38;5;124m`x1`, `x2` and `y` should have same shape.\u001b[39m\u001b[38;5;124m'\u001b[39m)\n\u001b[0;32m    238\u001b[0m     x1sq \u001b[38;5;241m=\u001b[39m x1\u001b[38;5;241m.\u001b[39mT\u001b[38;5;241m*\u001b[39m\u001b[38;5;241m*\u001b[39m\u001b[38;5;241m2\u001b[39m\n",
      "File \u001b[1;32mc:\\Users\\13637\\anaconda3\\envs\\main\\lib\\site-packages\\crip\\utils.py:40\u001b[0m, in \u001b[0;36mcripAssert\u001b[1;34m(cond, hint)\u001b[0m\n\u001b[0;32m     37\u001b[0m \u001b[38;5;250m\u001b[39m\u001b[38;5;124;03m''' The only assert method for crip.\u001b[39;00m\n\u001b[0;32m     38\u001b[0m \u001b[38;5;124;03m'''\u001b[39;00m\n\u001b[0;32m     39\u001b[0m \u001b[38;5;28;01mif\u001b[39;00m \u001b[38;5;129;01mnot\u001b[39;00m cond:\n\u001b[1;32m---> 40\u001b[0m     \u001b[38;5;28;01mraise\u001b[39;00m CripException(hint)\n",
      "\u001b[1;31mCripException\u001b[0m: Inputs should be 1D sequence."
     ]
    }
   ],
   "source": [
    "# Get the decomposing coefficients in the projection domain onto two basis materials.\n",
    "L1 = np.arange(0, 20 + 1, 2) * 10 # lengths to compute on\n",
    "L2 = np.arange(0, 5 + 1, 1) * 10\n",
    "c1, c2 = deDecompProjCoeff(spec80, spec140, PMMA, L1, Al, L2)"
   ]
  },
  {
   "cell_type": "code",
   "execution_count": null,
   "id": "2fe9c9bc-61bd-433d-a398-69bfbadea993",
   "metadata": {},
   "outputs": [],
   "source": []
  }
 ],
 "metadata": {
  "kernelspec": {
   "display_name": "Python 3 (ipykernel)",
   "language": "python",
   "name": "python3"
  },
  "language_info": {
   "codemirror_mode": {
    "name": "ipython",
    "version": 3
   },
   "file_extension": ".py",
   "mimetype": "text/x-python",
   "name": "python",
   "nbconvert_exporter": "python",
   "pygments_lexer": "ipython3",
   "version": "3.10.13"
  }
 },
 "nbformat": 4,
 "nbformat_minor": 5
}
